{
 "cells": [
  {
   "cell_type": "code",
   "execution_count": 11,
   "id": "0a93807a",
   "metadata": {},
   "outputs": [],
   "source": [
    "import random"
   ]
  },
  {
   "cell_type": "code",
   "execution_count": 12,
   "id": "a4b7ac45",
   "metadata": {},
   "outputs": [],
   "source": [
    "import string"
   ]
  },
  {
   "cell_type": "code",
   "execution_count": 21,
   "id": "4c983f7d",
   "metadata": {},
   "outputs": [
    {
     "name": "stdout",
     "output_type": "stream",
     "text": [
      "Enter the length of password that you want 13\n"
     ]
    }
   ],
   "source": [
    "num = int(input(\"Enter the length of password that you want \"))"
   ]
  },
  {
   "cell_type": "code",
   "execution_count": 22,
   "id": "df5a0632",
   "metadata": {},
   "outputs": [],
   "source": [
    "uCaseLetter1 = chr(random.randint(65, 90))  # Generate a random Uppercase Letter (based on ASCII code)\n",
    "uCaseLetter2 = chr(random.randint(65, 90))  # Generate a random Uppercase Letter (based on ASCII code)\n",
    "\n",
    "lCaseLetter1 = chr(random.randint(97, 122)) # Generate a random Lowercase Letter (based on ASCII code)\n",
    "lCaseLetter2 = chr(random.randint(97, 122)) # Generate a random Lowercase Letter (based on ASCII code)"
   ]
  },
  {
   "cell_type": "code",
   "execution_count": 23,
   "id": "15102b3d",
   "metadata": {},
   "outputs": [],
   "source": [
    "# string.digits is a string pre-initialized to '0123456789' and used as string constant\n",
    "digits = string.digits\n",
    "\n",
    "# string.punctuation is a string pre-initialized to !\"#$%&'()*+, -./:;<=>?@[\\]^_`{|}~  and used as a string constant\n",
    "symbols = string.punctuation"
   ]
  },
  {
   "cell_type": "code",
   "execution_count": 24,
   "id": "f218fcc4",
   "metadata": {},
   "outputs": [],
   "source": [
    "# Forming a new string using the variables containing the whole sample of characters\n",
    "merge = uCaseLetter1 + uCaseLetter2 + lCaseLetter1 + lCaseLetter2 + digits + symbols"
   ]
  },
  {
   "cell_type": "code",
   "execution_count": 25,
   "id": "af6e9656",
   "metadata": {},
   "outputs": [],
   "source": [
    "pword = random.sample(merge, num)"
   ]
  },
  {
   "cell_type": "code",
   "execution_count": 26,
   "id": "ccd3c5bb",
   "metadata": {},
   "outputs": [
    {
     "data": {
      "text/plain": [
       "[':', 'U', '{', '*', '7', '^', '_', ']', '1', '\\\\', '\"', '|', '!']"
      ]
     },
     "execution_count": 26,
     "metadata": {},
     "output_type": "execute_result"
    }
   ],
   "source": [
    "pword"
   ]
  },
  {
   "cell_type": "code",
   "execution_count": 27,
   "id": "ad9bc179",
   "metadata": {},
   "outputs": [
    {
     "name": "stdout",
     "output_type": "stream",
     "text": [
      "[':', 'U', '{', '*', '7', '^', '_', ']', '1', '\\\\', '\"', '|', '!']\n"
     ]
    }
   ],
   "source": [
    "print(pword)"
   ]
  },
  {
   "cell_type": "code",
   "execution_count": 28,
   "id": "1092d43c",
   "metadata": {},
   "outputs": [
    {
     "name": "stdout",
     "output_type": "stream",
     "text": [
      ":U{*7^_]1\\\"|!\n"
     ]
    }
   ],
   "source": [
    "password = \"\".join(pword)\n",
    "print(password)"
   ]
  },
  {
   "cell_type": "code",
   "execution_count": null,
   "id": "98577fde",
   "metadata": {},
   "outputs": [],
   "source": []
  }
 ],
 "metadata": {
  "kernelspec": {
   "display_name": "Python 3 (ipykernel)",
   "language": "python",
   "name": "python3"
  },
  "language_info": {
   "codemirror_mode": {
    "name": "ipython",
    "version": 3
   },
   "file_extension": ".py",
   "mimetype": "text/x-python",
   "name": "python",
   "nbconvert_exporter": "python",
   "pygments_lexer": "ipython3",
   "version": "3.9.7"
  }
 },
 "nbformat": 4,
 "nbformat_minor": 5
}
