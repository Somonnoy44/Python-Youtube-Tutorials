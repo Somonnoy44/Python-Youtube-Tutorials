{
 "cells": [
  {
   "cell_type": "markdown",
   "id": "0a10be88",
   "metadata": {},
   "source": [
    "### Basic GUI App using Python-Tkinter\n",
    "\n",
    "- This project is inspired by Geeks for Geeks\n",
    "- This project will introduce you'll to GUI applications that can be created using Python"
   ]
  },
  {
   "cell_type": "code",
   "execution_count": 1,
   "id": "88c38fef",
   "metadata": {},
   "outputs": [],
   "source": [
    "# Open the command prompt and type the code below\n",
    "# pip install tk\n",
    "# Search how to install tkinter on google if you are not able to "
   ]
  },
  {
   "cell_type": "code",
   "execution_count": 2,
   "id": "a7f5fa77",
   "metadata": {},
   "outputs": [],
   "source": [
    "# Import Module\n",
    "from tkinter import *\n",
    "\n",
    "# create root window\n",
    "root = Tk()\n",
    "\n",
    "# Specifying root window title and dimension\n",
    "root.title(\"Welcome to MyFirst GUI App\")\n",
    "# Set geometry (widthxheight)\n",
    "root.geometry(\"400x400\")\n",
    "\n",
    "# adding menu bar in root window\n",
    "menu = Menu(root)\n",
    "item = Menu(menu)\n",
    "item.add_command(label = 'New')\n",
    "menu.add_cascade(label = 'File', menu = item)\n",
    "root.config(menu = menu)\n",
    "root.config(bg = 'yellow')\n",
    "\n",
    "# adding a label to the root window\n",
    "lb = Label(root, text = \"Write something for it to be displayed\")\n",
    "\n",
    "lb.grid()\n",
    "lb.configure(bg = 'green', fg = 'white')\n",
    "\n",
    "\n",
    "# adding input field\n",
    "txt = Entry(root, width = 10)\n",
    "txt.grid(column = 1, row = 0)\n",
    "\n",
    "# function to make the button work when it is clicked\n",
    "def clicked():\n",
    "    res = \"You wanted \" + txt.get() + \" to be displayed\"\n",
    "    lb.configure(text = res)\n",
    "    \n",
    "    \n",
    "# button widget\n",
    "btn = Button(root, text = \"Click me\", fg = \"red\", command = clicked)\n",
    "\n",
    "# Setting Grid for Button\n",
    "btn.grid(column = 2, row = 0)\n",
    "\n",
    "# Executing Tkinter\n",
    "root.mainloop()"
   ]
  },
  {
   "cell_type": "code",
   "execution_count": null,
   "id": "d1439a84",
   "metadata": {},
   "outputs": [],
   "source": []
  }
 ],
 "metadata": {
  "kernelspec": {
   "display_name": "Python 3 (ipykernel)",
   "language": "python",
   "name": "python3"
  },
  "language_info": {
   "codemirror_mode": {
    "name": "ipython",
    "version": 3
   },
   "file_extension": ".py",
   "mimetype": "text/x-python",
   "name": "python",
   "nbconvert_exporter": "python",
   "pygments_lexer": "ipython3",
   "version": "3.9.7"
  }
 },
 "nbformat": 4,
 "nbformat_minor": 5
}
