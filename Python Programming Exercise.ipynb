{
 "cells": [
  {
   "cell_type": "markdown",
   "id": "98cbae4e",
   "metadata": {},
   "source": [
    "# Python Programming Exercise"
   ]
  },
  {
   "cell_type": "markdown",
   "id": "b279ecf7",
   "metadata": {},
   "source": [
    "### Q1) Given two numbers num1 and num2. The task is to write a Python program to find the addition of these        two numbers.\n",
    "\n",
    "###        Examples:\n",
    "\n",
    "###                Input: num1 = 5, num2 = 3\n",
    "###                Output: 8\n",
    "\n",
    "###                Input: num1 = 13, num2 = 6\n",
    "###                Output: 19"
   ]
  },
  {
   "cell_type": "code",
   "execution_count": 4,
   "id": "51e9e116",
   "metadata": {},
   "outputs": [
    {
     "name": "stdout",
     "output_type": "stream",
     "text": [
      "Enter 1st number5\n",
      "Enter 2nd number3\n",
      "The sum of 5 and 3 is 8\n"
     ]
    }
   ],
   "source": [
    "num1 = int(input('Enter 1st number'))\n",
    "num2 = int(input('Enter 2nd number'))\n",
    "\n",
    "print(\"The sum of {} and {} is {}\".format(num1, num2, num1 + num2))"
   ]
  },
  {
   "cell_type": "markdown",
   "id": "376942a8",
   "metadata": {},
   "source": [
    "### Q2) Given two numbers, write a Python code to find the Maximum of these two numbers.\n",
    "\n",
    "### Examples: \n",
    "\n",
    "### Input: a = 2, b = 4\n",
    "### Output: 4\n",
    "\n",
    "### Input: a = -1, b = -4\n",
    "### Output: -1"
   ]
  },
  {
   "cell_type": "code",
   "execution_count": 4,
   "id": "6d7449ae",
   "metadata": {},
   "outputs": [
    {
     "name": "stdout",
     "output_type": "stream",
     "text": [
      "Enter first number5\n",
      "Enter second number3\n",
      "5 is greater\n"
     ]
    }
   ],
   "source": [
    "num1 = int(input(\"Enter first number\"))\n",
    "num2 = int(input(\"Enter second number\"))\n",
    "\n",
    "if (num1 > num2):\n",
    "    print(\"{} is greater\".format(num1))\n",
    "\n",
    "elif (num1 == num2):\n",
    "    print(\"{} and {} are equal\".format(num1, num2))\n",
    "\n",
    "else:\n",
    "    print(\"{} is greater\".format(num2))"
   ]
  },
  {
   "cell_type": "markdown",
   "id": "a25b47ac",
   "metadata": {},
   "source": [
    "### Q3) Write a Python program find a list of integers with exactly two occurrences of nineteen and at least three occurrences of five.\n",
    "\n",
    "### Input:\n",
    "### [19, 19, 15, 5, 3, 5, 5, 2]\n",
    "### Output:\n",
    "### True\n",
    "\n",
    "### Input:\n",
    "### [19, 15, 15, 5, 3, 3, 5, 2]\n",
    "### Output:\n",
    "### False\n",
    "\n",
    "### Input:\n",
    "### [19, 19, 5, 5, 5, 5, 5]\n",
    "### Output:\n",
    "### True"
   ]
  },
  {
   "cell_type": "code",
   "execution_count": 5,
   "id": "7cf3dbab",
   "metadata": {},
   "outputs": [
    {
     "name": "stdout",
     "output_type": "stream",
     "text": [
      "Enter the number of elements to be present in the list5\n",
      "Enter 0 number 19\n",
      "Enter 1 number 20\n",
      "Enter 2 number 5\n",
      "Enter 3 number 19\n",
      "Enter 4 number 5\n",
      "False\n"
     ]
    }
   ],
   "source": [
    "listA = []\n",
    "\n",
    "n = int(input('Enter the number of elements to be present in the list'))\n",
    "\n",
    "\n",
    "# Taking input in the list\n",
    "for i in range(n):\n",
    "    ele = int(input(\"Enter {} number \".format(i)))\n",
    "    listA.append(ele)\n",
    "\n",
    "\n",
    "count_A = 0  # to count the occurences of 19\n",
    "count_B = 0  # to count the occurences of 5\n",
    "\n",
    "\n",
    "for i in range(n):\n",
    "    \n",
    "    if (listA[i] == 19):\n",
    "        count_A += 1\n",
    "    elif (listA[i] == 5):\n",
    "        count_B +=1\n",
    "\n",
    "        \n",
    "if ((count_A == 2) and (count_B >= 3)):\n",
    "    print('True')\n",
    "else:\n",
    "    print('False')"
   ]
  },
  {
   "cell_type": "markdown",
   "id": "7fe149c3",
   "metadata": {},
   "source": [
    "### Q4) Write a Python program that accept a list of integers and check the length and the fifth element. Return true if the length of the list is 8 and fifth element occurs thrice in the said list. \n",
    "\n",
    "### Input:\n",
    "### [19, 19, 15, 5, 5, 5, 1, 2]\n",
    "### Output:\n",
    "### True\n",
    "### Input:\n",
    "### [19, 15, 5, 7, 5, 5, 2]\n",
    "### Output:\n",
    "### False\n",
    "### Input:\n",
    "### [11, 12, 14, 13, 14, 13, 15, 14]\n",
    "### Output:\n",
    "### True\n",
    "### Input:\n",
    "### [19, 15, 11, 7, 5, 6, 2]\n",
    "### Output:\n",
    "### False"
   ]
  },
  {
   "cell_type": "code",
   "execution_count": 7,
   "id": "39d5a2a1",
   "metadata": {},
   "outputs": [
    {
     "name": "stdout",
     "output_type": "stream",
     "text": [
      "Enter the number of elements to be present in the list8\n",
      "Enter 0 number 19\n",
      "Enter 1 number 19\n",
      "Enter 2 number 15\n",
      "Enter 3 number 5\n",
      "Enter 4 number 5\n",
      "Enter 5 number 5\n",
      "Enter 6 number 1\n",
      "Enter 7 number 2\n",
      "True\n"
     ]
    }
   ],
   "source": [
    "listA = []\n",
    "\n",
    "n = int(input('Enter the number of elements to be present in the list'))\n",
    "\n",
    "for i in range(n):\n",
    "    ele = int(input('Enter {} number '.format(i)))\n",
    "    listA.append(ele)\n",
    "\n",
    "if (n == 8):\n",
    "    fifth_element = listA[4]\n",
    "    count = 0 # TO Count the number of occurences of the fifth element\n",
    "    for i in range(n):\n",
    "        if(listA[i] == fifth_element):\n",
    "            count += 1\n",
    "    \n",
    "    if(count == 3):\n",
    "        print('True')\n",
    "    else:\n",
    "        print('False')\n",
    "\n",
    "else:\n",
    "    print('False')"
   ]
  },
  {
   "cell_type": "markdown",
   "id": "b00dc5bc",
   "metadata": {},
   "source": [
    "### Q5) Write a Python program that accept an integer test whether an integer greater than 4^4 and which gives 4 when the number is divided by 34.\n",
    "\n",
    "### Input:\n",
    "### 922\n",
    "### Output:\n",
    "### True\n",
    "### Input:\n",
    "### 914\n",
    "### Output:\n",
    "### False\n",
    "### Input:\n",
    "### 854\n",
    "### Output:\n",
    "### True\n"
   ]
  },
  {
   "cell_type": "code",
   "execution_count": 12,
   "id": "eef4a363",
   "metadata": {},
   "outputs": [
    {
     "name": "stdout",
     "output_type": "stream",
     "text": [
      "Enter a number914\n",
      "False\n"
     ]
    }
   ],
   "source": [
    "n = int(input('Enter a number'))\n",
    "threshold = 4*4*4*4\n",
    "if((n > threshold) and (n % 34 == 4)):\n",
    "    print('True')\n",
    "else:\n",
    "    print('False')"
   ]
  },
  {
   "cell_type": "markdown",
   "id": "c0f78afb",
   "metadata": {},
   "source": [
    "### Q6) Write a program to find the simple interest. Given values are - Principal, Rate and Time."
   ]
  },
  {
   "cell_type": "code",
   "execution_count": 5,
   "id": "9f88face",
   "metadata": {},
   "outputs": [
    {
     "name": "stdout",
     "output_type": "stream",
     "text": [
      "Enter the Principal amount10000\n",
      "Enter the rate of interest5\n",
      "Enter the time period in years3\n",
      "The simple interest is 1500.0\n"
     ]
    }
   ],
   "source": [
    "P = int(input('Enter the Principal amount'))\n",
    "R = int(input('Enter the rate of interest'))\n",
    "T = int(input('Enter the time period in years'))\n",
    "\n",
    "SI = (P * R * T) / 100\n",
    "\n",
    "print(\"The simple interest is {}\".format(SI))"
   ]
  },
  {
   "cell_type": "markdown",
   "id": "693a2360",
   "metadata": {},
   "source": [
    "### Q7) Write a program to print all numbers that are divisible by 7 but are not a multiple of 5, between 2000 and 3200 (both included). The numbers obtained should be printed in a comma-separated sequence on a single line."
   ]
  },
  {
   "cell_type": "code",
   "execution_count": 2,
   "id": "53fdedd8",
   "metadata": {},
   "outputs": [
    {
     "name": "stdout",
     "output_type": "stream",
     "text": [
      "2002,2009,2016,2023,2037,2044,2051,2058,2072,2079,2086,2093,2107,2114,2121,2128,2142,2149,2156,2163,2177,2184,2191,2198,2212,2219,2226,2233,2247,2254,2261,2268,2282,2289,2296,2303,2317,2324,2331,2338,2352,2359,2366,2373,2387,2394,2401,2408,2422,2429,2436,2443,2457,2464,2471,2478,2492,2499,2506,2513,2527,2534,2541,2548,2562,2569,2576,2583,2597,2604,2611,2618,2632,2639,2646,2653,2667,2674,2681,2688,2702,2709,2716,2723,2737,2744,2751,2758,2772,2779,2786,2793,2807,2814,2821,2828,2842,2849,2856,2863,2877,2884,2891,2898,2912,2919,2926,2933,2947,2954,2961,2968,2982,2989,2996,3003,3017,3024,3031,3038,3052,3059,3066,3073,3087,3094,3101,3108,3122,3129,3136,3143,3157,3164,3171,3178,3192,3199\n"
     ]
    }
   ],
   "source": [
    "list_of_required_numbers = []\n",
    "\n",
    "for i in range(2000, 3201):\n",
    "    \n",
    "    if((i % 7) == 0 and (i%5) != 0):\n",
    "        \n",
    "        list_of_required_numbers.append(str(i))\n",
    "        \n",
    "print(','.join(list_of_required_numbers))"
   ]
  },
  {
   "cell_type": "markdown",
   "id": "18f78f9e",
   "metadata": {},
   "source": [
    "### Q8) Extract the numbers from the given string.\n",
    "### str1 = \"4122 students\""
   ]
  },
  {
   "cell_type": "code",
   "execution_count": 7,
   "id": "9762d305",
   "metadata": {},
   "outputs": [
    {
     "name": "stdout",
     "output_type": "stream",
     "text": [
      "['4122']\n"
     ]
    }
   ],
   "source": [
    "import re\n",
    "str1 = \"4122 students\"\n",
    "print (re.findall('\\d+', str1 ))"
   ]
  },
  {
   "cell_type": "code",
   "execution_count": null,
   "id": "371ade56",
   "metadata": {},
   "outputs": [],
   "source": []
  }
 ],
 "metadata": {
  "kernelspec": {
   "display_name": "Python 3 (ipykernel)",
   "language": "python",
   "name": "python3"
  },
  "language_info": {
   "codemirror_mode": {
    "name": "ipython",
    "version": 3
   },
   "file_extension": ".py",
   "mimetype": "text/x-python",
   "name": "python",
   "nbconvert_exporter": "python",
   "pygments_lexer": "ipython3",
   "version": "3.9.7"
  }
 },
 "nbformat": 4,
 "nbformat_minor": 5
}
