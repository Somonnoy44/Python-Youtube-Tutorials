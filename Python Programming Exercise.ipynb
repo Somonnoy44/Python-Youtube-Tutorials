{
 "cells": [
  {
   "cell_type": "markdown",
   "id": "98cbae4e",
   "metadata": {},
   "source": [
    "# Python Programming Exercise"
   ]
  },
  {
   "cell_type": "markdown",
   "id": "b279ecf7",
   "metadata": {},
   "source": [
    "### Q1) Given two numbers num1 and num2. The task is to write a Python program to find the addition of these        two numbers.\n",
    "\n",
    "###        Examples:\n",
    "\n",
    "###                Input: num1 = 5, num2 = 3\n",
    "###                Output: 8\n",
    "\n",
    "###                Input: num1 = 13, num2 = 6\n",
    "###                Output: 19"
   ]
  },
  {
   "cell_type": "code",
   "execution_count": 4,
   "id": "51e9e116",
   "metadata": {},
   "outputs": [
    {
     "name": "stdout",
     "output_type": "stream",
     "text": [
      "Enter 1st number5\n",
      "Enter 2nd number3\n",
      "The sum of 5 and 3 is 8\n"
     ]
    }
   ],
   "source": [
    "num1 = int(input('Enter 1st number'))\n",
    "num2 = int(input('Enter 2nd number'))\n",
    "\n",
    "print(\"The sum of {} and {} is {}\".format(num1, num2, num1 + num2))"
   ]
  },
  {
   "cell_type": "markdown",
   "id": "376942a8",
   "metadata": {},
   "source": [
    "### Q2) Given two numbers, write a Python code to find the Maximum of these two numbers.\n",
    "\n",
    "### Examples: \n",
    "\n",
    "### Input: a = 2, b = 4\n",
    "### Output: 4\n",
    "\n",
    "### Input: a = -1, b = -4\n",
    "### Output: -1"
   ]
  },
  {
   "cell_type": "code",
   "execution_count": 4,
   "id": "6d7449ae",
   "metadata": {},
   "outputs": [
    {
     "name": "stdout",
     "output_type": "stream",
     "text": [
      "Enter first number5\n",
      "Enter second number3\n",
      "5 is greater\n"
     ]
    }
   ],
   "source": [
    "num1 = int(input(\"Enter first number\"))\n",
    "num2 = int(input(\"Enter second number\"))\n",
    "\n",
    "if (num1 > num2):\n",
    "    print(\"{} is greater\".format(num1))\n",
    "\n",
    "elif (num1 == num2):\n",
    "    print(\"{} and {} are equal\".format(num1, num2))\n",
    "\n",
    "else:\n",
    "    print(\"{} is greater\".format(num2))"
   ]
  },
  {
   "cell_type": "markdown",
   "id": "a25b47ac",
   "metadata": {},
   "source": [
    "### Q3) Write a Python program find a list of integers with exactly two occurrences of nineteen and at least three occurrences of five.\n",
    "\n",
    "### Input:\n",
    "### [19, 19, 15, 5, 3, 5, 5, 2]\n",
    "### Output:\n",
    "### True\n",
    "\n",
    "### Input:\n",
    "### [19, 15, 15, 5, 3, 3, 5, 2]\n",
    "### Output:\n",
    "### False\n",
    "\n",
    "### Input:\n",
    "### [19, 19, 5, 5, 5, 5, 5]\n",
    "### Output:\n",
    "### True"
   ]
  },
  {
   "cell_type": "code",
   "execution_count": 5,
   "id": "7cf3dbab",
   "metadata": {},
   "outputs": [
    {
     "name": "stdout",
     "output_type": "stream",
     "text": [
      "Enter the number of elements to be present in the list5\n",
      "Enter 0 number 19\n",
      "Enter 1 number 20\n",
      "Enter 2 number 5\n",
      "Enter 3 number 19\n",
      "Enter 4 number 5\n",
      "False\n"
     ]
    }
   ],
   "source": [
    "listA = []\n",
    "\n",
    "n = int(input('Enter the number of elements to be present in the list'))\n",
    "\n",
    "\n",
    "# Taking input in the list\n",
    "for i in range(n):\n",
    "    ele = int(input(\"Enter {} number \".format(i)))\n",
    "    listA.append(ele)\n",
    "\n",
    "\n",
    "count_A = 0  # to count the occurences of 19\n",
    "count_B = 0  # to count the occurences of 5\n",
    "\n",
    "\n",
    "for i in range(n):\n",
    "    \n",
    "    if (listA[i] == 19):\n",
    "        count_A += 1\n",
    "    elif (listA[i] == 5):\n",
    "        count_B +=1\n",
    "\n",
    "        \n",
    "if ((count_A == 2) and (count_B >= 3)):\n",
    "    print('True')\n",
    "else:\n",
    "    print('False')"
   ]
  },
  {
   "cell_type": "markdown",
   "id": "7fe149c3",
   "metadata": {},
   "source": [
    "### Q4) Write a Python program that accept a list of integers and check the length and the fifth element. Return true if the length of the list is 8 and fifth element occurs thrice in the said list. \n",
    "\n",
    "### Input:\n",
    "### [19, 19, 15, 5, 5, 5, 1, 2]\n",
    "### Output:\n",
    "### True\n",
    "### Input:\n",
    "### [19, 15, 5, 7, 5, 5, 2]\n",
    "### Output:\n",
    "### False\n",
    "### Input:\n",
    "### [11, 12, 14, 13, 14, 13, 15, 14]\n",
    "### Output:\n",
    "### True\n",
    "### Input:\n",
    "### [19, 15, 11, 7, 5, 6, 2]\n",
    "### Output:\n",
    "### False"
   ]
  },
  {
   "cell_type": "code",
   "execution_count": 7,
   "id": "39d5a2a1",
   "metadata": {},
   "outputs": [
    {
     "name": "stdout",
     "output_type": "stream",
     "text": [
      "Enter the number of elements to be present in the list8\n",
      "Enter 0 number 19\n",
      "Enter 1 number 19\n",
      "Enter 2 number 15\n",
      "Enter 3 number 5\n",
      "Enter 4 number 5\n",
      "Enter 5 number 5\n",
      "Enter 6 number 1\n",
      "Enter 7 number 2\n",
      "True\n"
     ]
    }
   ],
   "source": [
    "listA = []\n",
    "\n",
    "n = int(input('Enter the number of elements to be present in the list'))\n",
    "\n",
    "for i in range(n):\n",
    "    ele = int(input('Enter {} number '.format(i)))\n",
    "    listA.append(ele)\n",
    "\n",
    "if (n == 8):\n",
    "    fifth_element = listA[4]\n",
    "    count = 0 # TO Count the number of occurences of the fifth element\n",
    "    for i in range(n):\n",
    "        if(listA[i] == fifth_element):\n",
    "            count += 1\n",
    "    \n",
    "    if(count == 3):\n",
    "        print('True')\n",
    "    else:\n",
    "        print('False')\n",
    "\n",
    "else:\n",
    "    print('False')"
   ]
  },
  {
   "cell_type": "markdown",
   "id": "b00dc5bc",
   "metadata": {},
   "source": [
    "### Q5) Write a Python program that accept an integer test whether an integer greater than 4^4 and which gives 4 when the number is divided by 34.\n",
    "\n",
    "### Input:\n",
    "### 922\n",
    "### Output:\n",
    "### True\n",
    "### Input:\n",
    "### 914\n",
    "### Output:\n",
    "### False\n",
    "### Input:\n",
    "### 854\n",
    "### Output:\n",
    "### True\n"
   ]
  },
  {
   "cell_type": "code",
   "execution_count": 12,
   "id": "eef4a363",
   "metadata": {},
   "outputs": [
    {
     "name": "stdout",
     "output_type": "stream",
     "text": [
      "Enter a number914\n",
      "False\n"
     ]
    }
   ],
   "source": [
    "n = int(input('Enter a number'))\n",
    "threshold = 4*4*4*4\n",
    "if((n > threshold) and (n % 34 == 4)):\n",
    "    print('True')\n",
    "else:\n",
    "    print('False')"
   ]
  },
  {
   "cell_type": "markdown",
   "id": "c0f78afb",
   "metadata": {},
   "source": [
    "### Q6) Write a program to find the simple interest. Given values are - Principal, Rate and Time."
   ]
  },
  {
   "cell_type": "code",
   "execution_count": 5,
   "id": "9f88face",
   "metadata": {},
   "outputs": [
    {
     "name": "stdout",
     "output_type": "stream",
     "text": [
      "Enter the Principal amount10000\n",
      "Enter the rate of interest5\n",
      "Enter the time period in years3\n",
      "The simple interest is 1500.0\n"
     ]
    }
   ],
   "source": [
    "P = int(input('Enter the Principal amount'))\n",
    "R = int(input('Enter the rate of interest'))\n",
    "T = int(input('Enter the time period in years'))\n",
    "\n",
    "SI = (P * R * T) / 100\n",
    "\n",
    "print(\"The simple interest is {}\".format(SI))"
   ]
  },
  {
   "cell_type": "markdown",
   "id": "693a2360",
   "metadata": {},
   "source": [
    "### Q7) Write a program to print all numbers that are divisible by 7 but are not a multiple of 5, between 2000 and 3200 (both included). The numbers obtained should be printed in a comma-separated sequence on a single line."
   ]
  },
  {
   "cell_type": "code",
   "execution_count": 2,
   "id": "53fdedd8",
   "metadata": {},
   "outputs": [
    {
     "name": "stdout",
     "output_type": "stream",
     "text": [
      "2002,2009,2016,2023,2037,2044,2051,2058,2072,2079,2086,2093,2107,2114,2121,2128,2142,2149,2156,2163,2177,2184,2191,2198,2212,2219,2226,2233,2247,2254,2261,2268,2282,2289,2296,2303,2317,2324,2331,2338,2352,2359,2366,2373,2387,2394,2401,2408,2422,2429,2436,2443,2457,2464,2471,2478,2492,2499,2506,2513,2527,2534,2541,2548,2562,2569,2576,2583,2597,2604,2611,2618,2632,2639,2646,2653,2667,2674,2681,2688,2702,2709,2716,2723,2737,2744,2751,2758,2772,2779,2786,2793,2807,2814,2821,2828,2842,2849,2856,2863,2877,2884,2891,2898,2912,2919,2926,2933,2947,2954,2961,2968,2982,2989,2996,3003,3017,3024,3031,3038,3052,3059,3066,3073,3087,3094,3101,3108,3122,3129,3136,3143,3157,3164,3171,3178,3192,3199\n"
     ]
    }
   ],
   "source": [
    "list_of_required_numbers = []\n",
    "\n",
    "for i in range(2000, 3201):\n",
    "    \n",
    "    if((i % 7) == 0 and (i%5) != 0):\n",
    "        \n",
    "        list_of_required_numbers.append(str(i))\n",
    "        \n",
    "print(','.join(list_of_required_numbers))"
   ]
  },
  {
   "cell_type": "markdown",
   "id": "6d7ab936",
   "metadata": {},
   "source": [
    "### Q8) Extract the numbers from the given string.\n",
    "### str1 = \"4122 students\""
   ]
  },
  {
   "cell_type": "code",
   "execution_count": 7,
   "id": "22bdb226",
   "metadata": {},
   "outputs": [
    {
     "name": "stdout",
     "output_type": "stream",
     "text": [
      "['4122']\n"
     ]
    }
   ],
   "source": [
    "import re\n",
    "str1 = \"4122 students\"\n",
    "print (re.findall('\\d+', str1 ))"
   ]
  },
  {
   "cell_type": "markdown",
   "id": "cef2eed9",
   "metadata": {},
   "source": [
    "### Q9) Split the text of a given string.\n",
    "### txt = \"Welcome to the world of python\""
   ]
  },
  {
   "cell_type": "code",
   "execution_count": 8,
   "id": "75483d7b",
   "metadata": {},
   "outputs": [
    {
     "name": "stdout",
     "output_type": "stream",
     "text": [
      "['Welcome', 'to', 'the', 'world', 'of', 'python']\n"
     ]
    }
   ],
   "source": [
    "txt = \"Welcome to the world of python\"\n",
    "\n",
    "list1 = txt.split()\n",
    "print(list1)"
   ]
  },
  {
   "cell_type": "markdown",
   "id": "ffc08d77",
   "metadata": {},
   "source": [
    "### Q10) A neon number is a number where the sum of digits of square of the number is equal to the number. The task is to check and print neon numbers in a range.\n",
    "\n",
    "Input : 9  <br>\n",
    "Output : Neon Number <br>\n",
    "Explanation: square is 9*9 = 81 and \n",
    "sum of the digits of the square is 9. <br>\n",
    "\n",
    "Input :12 <br>\n",
    "Output : Not a Neon Number <br>\n",
    "Explanation: square is 12*12 = 144 and \n",
    "sum of the digits of the square is 9 (1 + 4 + 4) which is not equal to 12."
   ]
  },
  {
   "cell_type": "code",
   "execution_count": 5,
   "id": "1083bdbc",
   "metadata": {},
   "outputs": [
    {
     "name": "stdout",
     "output_type": "stream",
     "text": [
      "Enter a number 81\n",
      "81 is not a neon number\n"
     ]
    }
   ],
   "source": [
    "n = int(input('Enter a number '))\n",
    "\n",
    "num = n # making a copy of the number\n",
    "\n",
    "def square_num(a): # function that calculates square of a number\n",
    "    a = a*a\n",
    "    return a\n",
    "\n",
    "sum = 0            # sum will be storing the sum of digits of the square of the number\n",
    "\n",
    "square_of_num = square_num(num)\n",
    "\n",
    "while(square_of_num > 0):\n",
    "    d = square_of_num % 10\n",
    "    sum += d\n",
    "    square_of_num = square_of_num // 10\n",
    "    \n",
    "if(sum == n):\n",
    "    print('{} is a neon number'.format(n))\n",
    "else:\n",
    "    print('{} is not a neon number'.format(n))"
   ]
  },
  {
   "cell_type": "markdown",
   "id": "c7a6a2d0",
   "metadata": {},
   "source": [
    "### Q11) Find words that are greater than a given length 'k' in a given string.\n",
    "\n",
    "### Input : str = \"hello Acad Space is a great youtube channel\" \n",
    "###        k = 4\n",
    "### Output : hello Space great youtube channel\n",
    "### Explanation : The output is list of all words that are of length more than k.\n",
    "\n",
    "### Input : str = \"India is a great nation\"\n",
    "###        k = 3\n",
    "### Output : India great nation"
   ]
  },
  {
   "cell_type": "code",
   "execution_count": 7,
   "id": "fd607501",
   "metadata": {},
   "outputs": [
    {
     "name": "stdout",
     "output_type": "stream",
     "text": [
      "Enter the given length for k 4\n",
      "Enter a sentence India is a great nation\n",
      "['India', 'great', 'nation']\n"
     ]
    }
   ],
   "source": [
    "def str_check(k, str):\n",
    "     \n",
    "    # create the empty string\n",
    "    new_str = []\n",
    "     \n",
    "    # split the string where space is comes\n",
    "    text = str.split(\" \")\n",
    "     \n",
    "    # iterate the loop till every substring\n",
    "    for x in text:\n",
    "         \n",
    "        # if length of current sub string\n",
    "        # is greater than k then\n",
    "        if len(x) > k:\n",
    "             \n",
    "            # append this sub string in\n",
    "            # string list\n",
    "            new_str.append(x)\n",
    "             \n",
    "     # return string list\n",
    "    return new_str\n",
    " \n",
    "# Driver program\n",
    "k = int(input('Enter the given length for k '))\n",
    "str = input('Enter a sentence ')\n",
    "print(str_check(k, str))"
   ]
  },
  {
   "cell_type": "markdown",
   "id": "757d17e5",
   "metadata": {},
   "source": [
    "### Q12) Write a Python program to find the lengths of a given list of strings.\n",
    "\n",
    "### Input:\n",
    "### ['bat', 'car', 'four', 'center']\n",
    "### Output:\n",
    "### [3, 3, 4, 6]\n",
    "### Input:\n",
    "### ['cat', 'dog', 'explain', 'cooks', 'at', 'todo', '']\n",
    "### Output:\n",
    "### [3, 3, 7, 5, 2, 4, 0]"
   ]
  },
  {
   "cell_type": "code",
   "execution_count": 3,
   "id": "da354d7b",
   "metadata": {},
   "outputs": [
    {
     "name": "stdout",
     "output_type": "stream",
     "text": [
      "Enter the number of words to be present in the list7\n",
      "cat\n",
      "dog\n",
      "explain\n",
      "cooks\n",
      "at\n",
      "todo\n",
      "\n",
      "[3, 3, 7, 5, 2, 4, 0]\n"
     ]
    }
   ],
   "source": [
    "def len_of_str(str1):\n",
    "    return len(str1)\n",
    "\n",
    "input_str_list = []\n",
    "\n",
    "n =  int(input('Enter the number of words to be present in the list'))\n",
    "\n",
    "for i in range(n):\n",
    "    str2 = input() # str2 is a temporary variable for taking input from the user\n",
    "    input_str_list.append(str2)\n",
    "    \n",
    "\n",
    "# Function to find the length of each string in string list\n",
    "\n",
    "output_str_list = []\n",
    "\n",
    "for i in range(n):\n",
    "    str3 = input_str_list[i]\n",
    "    length_str =  len_of_str(str3)\n",
    "    output_str_list.append(length_str)\n",
    "    \n",
    "print(output_str_list)"
   ]
  },
  {
   "cell_type": "markdown",
   "id": "6b100885",
   "metadata": {},
   "source": [
    "### Q13) Write a Python program to display the current date and time.\n",
    "\n",
    "### import datetime\n",
    "### now = datetime.datetime.now()\n",
    "### print (\"Current date and time : \")\n",
    "### print (now.strftime(\"%Y-%m-%d %H:%M:%S\"))"
   ]
  },
  {
   "cell_type": "code",
   "execution_count": 2,
   "id": "1293e5d4",
   "metadata": {},
   "outputs": [
    {
     "name": "stdout",
     "output_type": "stream",
     "text": [
      "Current date and time : \n",
      "2022-04-12 \n",
      "09:23:49\n"
     ]
    }
   ],
   "source": [
    "import datetime\n",
    "date_time_now = datetime.datetime.now()\n",
    "print (\"Current date and time : \")\n",
    "print (date_time_now.strftime(\"%Y-%m-%d \\n%H:%M:%S\")) # \\n is a escape sequence character that positions the cursor to the next line"
   ]
  },
  {
   "cell_type": "markdown",
   "id": "5ea380a5",
   "metadata": {},
   "source": [
    "### Q14) Write a program to convert a list to a string."
   ]
  },
  {
   "cell_type": "code",
   "execution_count": 7,
   "id": "d3668c7b",
   "metadata": {},
   "outputs": [
    {
     "name": "stdout",
     "output_type": "stream",
     "text": [
      "Ram 17 Shyam 22 Dhanush 31\n"
     ]
    }
   ],
   "source": [
    "list1 = [\"Ram\", 17, \"Shyam\", 22, \"Dhanush\", 31]  \n",
    "  \n",
    "convertList = ' '.join(map(str,list1)) # using map funtion  \n",
    "  \n",
    "print(convertList)  "
   ]
  },
  {
   "cell_type": "markdown",
   "id": "6d9e4b78",
   "metadata": {},
   "source": [
    "### Q15) Write a python program to interchange first and last elements in a list.\n",
    "### Input : [13, 35, 9, 56, 31]\n",
    "### Output : [31, 35, 9, 56, 13]\n",
    "\n",
    "### Input : [1, 2, 3]\n",
    "### Output : [3, 2, 1]"
   ]
  },
  {
   "cell_type": "code",
   "execution_count": 1,
   "id": "ce364780",
   "metadata": {},
   "outputs": [
    {
     "name": "stdout",
     "output_type": "stream",
     "text": [
      "Enter the length of the list to be inputted 3\n",
      "Enter the numbers in the input list \n",
      "2\n",
      "1\n",
      "1\n",
      "\n",
      "\n",
      "\n",
      "\n",
      "\n",
      "1\n",
      "1\n",
      "2\n"
     ]
    }
   ],
   "source": [
    "input_list_len = int(input('Enter the length of the list to be inputted '))\n",
    "\n",
    "input_list = []\n",
    "\n",
    "print('Enter the numbers in the input list ')\n",
    "\n",
    "# Taking input of the elements in list\n",
    "for i in range(input_list_len):\n",
    "    ele = int(input())\n",
    "    input_list.append(ele)\n",
    "    \n",
    "\n",
    "# Swapping the first and the last element of the list\n",
    "def swap_elements(input_list):\n",
    "    first_ele = input_list[0]\n",
    "    last_ele = input_list[-1]\n",
    "    temp_var = first_ele # temporary variable created\n",
    "    first_ele = last_ele\n",
    "    last_ele = temp_var\n",
    "    input_list[0] = first_ele\n",
    "    input_list[-1] = last_ele\n",
    "\n",
    "def print_list(input_list):\n",
    "    for i in range(input_list_len):\n",
    "        print(input_list[i])\n",
    "        \n",
    "swap_elements(input_list)\n",
    "print('\\n\\n\\n\\n')\n",
    "print_list(input_list)"
   ]
  },
  {
   "cell_type": "markdown",
   "id": "7cbea8bf",
   "metadata": {},
   "source": [
    "### Q16) Write a program to remove first n characters from a string.\n",
    "\n",
    "### Example:\n",
    "### Input - butterfly, 4\n",
    "### Output - erfly"
   ]
  },
  {
   "cell_type": "code",
   "execution_count": 2,
   "id": "55ec4c5a",
   "metadata": {},
   "outputs": [
    {
     "name": "stdout",
     "output_type": "stream",
     "text": [
      "Enter the string which needs to be sliced butterfly\n",
      "Enter the value for n which denotes how many characters have to be removed from the start of a string 4\n",
      "erfly\n"
     ]
    }
   ],
   "source": [
    "str_1 = input('Enter the string which needs to be sliced ')\n",
    "\n",
    "n = int(input('Enter the value for n which denotes how many characters have to be removed from the start of a string '))\n",
    "\n",
    "print(str_1[4:])"
   ]
  },
  {
   "cell_type": "markdown",
   "id": "b740ddb7",
   "metadata": {},
   "source": [
    "### Q17) Write a program to reverse a string.\n",
    "\n",
    "### Example:\n",
    "\n",
    "### Input: home\n",
    "\n",
    "### Output: emoh"
   ]
  },
  {
   "cell_type": "code",
   "execution_count": 1,
   "id": "b5e1eeee",
   "metadata": {},
   "outputs": [
    {
     "name": "stdout",
     "output_type": "stream",
     "text": [
      "Enter a string which needs to be reversed butterfly\n",
      "Reversed String : ylfrettub\n"
     ]
    }
   ],
   "source": [
    "str_1 = input('Enter a string which needs to be reversed ')\n",
    "print('Reversed String : ' + str_1[::-1])"
   ]
  },
  {
   "cell_type": "markdown",
   "id": "ec386553",
   "metadata": {},
   "source": [
    "### Q18) Write a program that accepts the radius of a circle from the user and computes the area. \n",
    "### Input the radius of the circle : 1.1                                                                          \n",
    "### The area of the circle with radius 1.1 is: 3.8013271108436504 "
   ]
  },
  {
   "cell_type": "code",
   "execution_count": 3,
   "id": "394dddd4",
   "metadata": {},
   "outputs": [
    {
     "name": "stdout",
     "output_type": "stream",
     "text": [
      "Please enter the radius of the circle : 1.1\n",
      "The area of the circle with radius 1.1 is: 3.8013271108436504\n"
     ]
    }
   ],
   "source": [
    "from math import pi\n",
    "r = float(input(\"Please enter the radius of the circle: \"))\n",
    "print (\"The area of the circle with radius \" + str(r) + \" is: \" + str(pi * r**2))"
   ]
  },
  {
   "cell_type": "code",
   "execution_count": null,
   "id": "249c1515",
   "metadata": {},
   "outputs": [],
   "source": []
  }
 ],
 "metadata": {
  "kernelspec": {
   "display_name": "Python 3 (ipykernel)",
   "language": "python",
   "name": "python3"
  },
  "language_info": {
   "codemirror_mode": {
    "name": "ipython",
    "version": 3
   },
   "file_extension": ".py",
   "mimetype": "text/x-python",
   "name": "python",
   "nbconvert_exporter": "python",
   "pygments_lexer": "ipython3",
   "version": "3.9.7"
  }
 },
 "nbformat": 4,
 "nbformat_minor": 5
}
