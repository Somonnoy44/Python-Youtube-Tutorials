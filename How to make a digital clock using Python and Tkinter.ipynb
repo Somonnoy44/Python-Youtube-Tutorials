{
 "cells": [
  {
   "cell_type": "code",
   "execution_count": 7,
   "id": "a8d7fdaf",
   "metadata": {},
   "outputs": [],
   "source": [
    "from tkinter import *\n",
    "from time import strftime\n",
    "root = Tk() # Creating Tkinter window\n",
    "root.geometry(\"500x500\")\n",
    "root.resizable(50, 50)\n",
    "root.title('Python Digital Watch')\n",
    "Label(root,text = 'YOUTUBE - ACAD SPACE', font ='arial 25 bold').pack(side=BOTTOM)\n",
    "Label(root,text = 'SOMONNOY BANERJEE', font ='arial 25 bold').pack(side=BOTTOM)\n",
    "def time():\n",
    "    string = strftime('%H:%M:%S %p')\n",
    "    time_text.config(text = string)\n",
    "    time_text.after(1000, time)\n",
    "time_text = Label(root, \n",
    "            font = ('calibri', 30, 'bold'),\n",
    "            pady=150,\n",
    "            foreground = 'red')\n",
    "time_text.pack(anchor = 'center')\n",
    "time()\n",
    " \n",
    "mainloop()"
   ]
  },
  {
   "cell_type": "code",
   "execution_count": null,
   "id": "60ed14c8",
   "metadata": {},
   "outputs": [],
   "source": []
  },
  {
   "cell_type": "code",
   "execution_count": null,
   "id": "ce388520",
   "metadata": {},
   "outputs": [],
   "source": []
  }
 ],
 "metadata": {
  "kernelspec": {
   "display_name": "Python 3 (ipykernel)",
   "language": "python",
   "name": "python3"
  },
  "language_info": {
   "codemirror_mode": {
    "name": "ipython",
    "version": 3
   },
   "file_extension": ".py",
   "mimetype": "text/x-python",
   "name": "python",
   "nbconvert_exporter": "python",
   "pygments_lexer": "ipython3",
   "version": "3.9.7"
  }
 },
 "nbformat": 4,
 "nbformat_minor": 5
}
